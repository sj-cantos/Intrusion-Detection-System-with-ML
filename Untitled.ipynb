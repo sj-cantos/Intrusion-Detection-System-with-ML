{
 "cells": [
  {
   "cell_type": "code",
   "execution_count": 1,
   "id": "b44ef577-35a3-45b2-bca4-e7358182f7aa",
   "metadata": {},
   "outputs": [],
   "source": [
    "import kagglehub\n",
    "import os\n",
    "import numpy as np\n",
    "import pandas as pd\n",
    "import torch\n",
    "import torch.nn as nn\n",
    "import torch.optim as optim\n",
    "from torch.utils.data import DataLoader, TensorDataset\n",
    "from sklearn.preprocessing import StandardScaler, LabelEncoder\n",
    "import scapy.all as scapy\n",
    "import time"
   ]
  },
  {
   "cell_type": "code",
   "execution_count": 2,
   "id": "be33c6b1-ea01-466f-8a4b-8403ee1e96b4",
   "metadata": {},
   "outputs": [],
   "source": [
    "datasets = {\n",
    "    'Benign-Monday': 'cicids2017/Benign-Monday-no-metadata.parquet',\n",
    "    'Botnet-Friday': 'cicids2017/Botnet-Friday-no-metadata.parquet',\n",
    "    'Bruteforce-Tuesday': 'cicids2017/Bruteforce-Tuesday-no-metadata.parquet',\n",
    "    'DDoS-Friday': 'cicids2017/DDoS-Friday-no-metadata.parquet',\n",
    "    'DoS-Wednesday': 'cicids2017/DoS-Wednesday-no-metadata.parquet',\n",
    "    'Infiltration-Thursday': 'cicids2017/Infiltration-Thursday-no-metadata.parquet',\n",
    "    'Portscan-Friday': 'cicids2017/Portscan-Friday-no-metadata.parquet',\n",
    "    'WebAttacks-Thursday': 'cicids2017/WebAttacks-Thursday-no-metadata.parquet'\n",
    "}\n",
    "\n",
    "# Read the datasets into DataFrames\n",
    "df_data = {key: pd.read_parquet(path) for key, path in datasets.items()}"
   ]
  },
  {
   "cell_type": "code",
   "execution_count": 3,
   "id": "29f33be5-76dd-41f6-bce5-42584cc2a0ec",
   "metadata": {},
   "outputs": [],
   "source": [
    "frames = [pd.read_parquet(path) for path in datasets.values()]\n",
    "df = pd.concat(frames, ignore_index=True)"
   ]
  },
  {
   "cell_type": "code",
   "execution_count": 4,
   "id": "89c7f562-3bee-498b-96aa-6dfe2d591115",
   "metadata": {},
   "outputs": [],
   "source": [
    "features = df.drop(columns=['Label'])  # Exclude label column\n",
    "labels = df['Label']"
   ]
  },
  {
   "cell_type": "code",
   "execution_count": 5,
   "id": "2735826a-c7f3-4b4b-8941-afcc0f4a1495",
   "metadata": {},
   "outputs": [],
   "source": [
    "label_encoder = LabelEncoder()\n",
    "y = label_encoder.fit_transform(labels)\n"
   ]
  },
  {
   "cell_type": "code",
   "execution_count": 6,
   "id": "e29c4ece-9ca6-4038-aabd-1e90ee77bd80",
   "metadata": {},
   "outputs": [],
   "source": [
    "scaler = StandardScaler()\n",
    "X = scaler.fit_transform(features)\n"
   ]
  },
  {
   "cell_type": "code",
   "execution_count": 7,
   "id": "2c450e08-2e0d-4025-b8aa-2ed61126156d",
   "metadata": {},
   "outputs": [],
   "source": [
    "X_tensor = torch.tensor(X, dtype=torch.float32).unsqueeze(2)  # Add channel dimension\n",
    "y_tensor = torch.tensor(y, dtype=torch.long)"
   ]
  },
  {
   "cell_type": "code",
   "execution_count": 8,
   "id": "88882611-9ba7-4053-8309-dd1e73166797",
   "metadata": {},
   "outputs": [],
   "source": [
    "dataset = TensorDataset(X_tensor, y_tensor)\n",
    "dataloader = DataLoader(dataset, batch_size=32, shuffle=True)"
   ]
  },
  {
   "cell_type": "code",
   "execution_count": 9,
   "id": "d237fa76-973b-4b98-960b-633921b8da4e",
   "metadata": {},
   "outputs": [],
   "source": [
    "class CNN_LSTM(nn.Module):\n",
    "    def __init__(self, input_size, num_classes):\n",
    "        super(CNN_LSTM, self).__init__()\n",
    "        self.conv1 = nn.Conv1d(in_channels=1, out_channels=64, kernel_size=3, padding=1)\n",
    "        self.batch_norm = nn.BatchNorm1d(64)\n",
    "        \n",
    "        # The new LSTM input size should match the Conv1d output size\n",
    "        self.lstm = nn.LSTM(input_size=64, hidden_size=64, num_layers=2, batch_first=True)\n",
    "        \n",
    "        self.fc1 = nn.Linear(64, 32)\n",
    "        self.fc2 = nn.Linear(32, num_classes)\n",
    "        self.dropout = nn.Dropout(0.3)\n",
    "    \n",
    "    def forward(self, x):\n",
    "        x = x.permute(0, 2, 1)  # Change shape for CNN: [batch_size, 1, input_size]\n",
    "        x = torch.relu(self.conv1(x))  # Conv1D reduces feature dim\n",
    "        x = self.batch_norm(x)\n",
    "\n",
    "        x = x.permute(0, 2, 1)  # Change back to [batch_size, sequence_length, channels]\n",
    "        \n",
    "        # Ensure LSTM receives the correct input size\n",
    "        x, _ = self.lstm(x)\n",
    "        x = self.dropout(torch.relu(self.fc1(x[:, -1, :])))\n",
    "        x = self.fc2(x)\n",
    "        return x\n"
   ]
  },
  {
   "cell_type": "code",
   "execution_count": 10,
   "id": "02159924-52ed-4d65-b0d7-5395129256f9",
   "metadata": {},
   "outputs": [],
   "source": [
    "num_classes = len(np.unique(y))\n",
    "device = torch.device(\"cuda\" if torch.cuda.is_available() else \"cpu\")\n",
    "model = CNN_LSTM(input_size=X.shape[1], num_classes=num_classes).to(device)\n"
   ]
  },
  {
   "cell_type": "code",
   "execution_count": 11,
   "id": "ff9ec5e8-38c4-4a4f-b5b4-71fcd797be3c",
   "metadata": {},
   "outputs": [],
   "source": [
    "criterion = nn.CrossEntropyLoss()\n",
    "optimizer = optim.Adam(model.parameters(), lr=0.001)"
   ]
  },
  {
   "cell_type": "code",
   "execution_count": null,
   "id": "91008fa7-12e4-4e19-93a6-4ad37dec9736",
   "metadata": {},
   "outputs": [
    {
     "name": "stdout",
     "output_type": "stream",
     "text": [
      "Epoch 1/10, Loss: 0.0234\n"
     ]
    }
   ],
   "source": [
    "for epoch in range(10):\n",
    "    for batch_X, batch_y in dataloader:\n",
    "        batch_X, batch_y = batch_X.to(device), batch_y.to(device)\n",
    "        optimizer.zero_grad()\n",
    "        outputs = model(batch_X)\n",
    "        loss = criterion(outputs, batch_y)\n",
    "        loss.backward()\n",
    "        optimizer.step()\n",
    "    print(f\"Epoch {epoch+1}/10, Loss: {loss.item():.4f}\")"
   ]
  },
  {
   "cell_type": "code",
   "execution_count": null,
   "id": "52083bb0-b587-4ecc-ac3c-a54db6d18734",
   "metadata": {},
   "outputs": [],
   "source": [
    "print(X_tensor.shape)  \n"
   ]
  },
  {
   "cell_type": "code",
   "execution_count": null,
   "id": "1db8a5ca-899b-4b8f-ab3d-f731a668cf9d",
   "metadata": {},
   "outputs": [],
   "source": [
    "torch.save(model.state_dict(), \"ids_model.pth\")\n"
   ]
  },
  {
   "cell_type": "code",
   "execution_count": null,
   "id": "a8619c34-ac07-4127-8458-6de4cc2430a6",
   "metadata": {},
   "outputs": [],
   "source": []
  },
  {
   "cell_type": "code",
   "execution_count": null,
   "id": "d6ae8e4a-ae77-4d38-b8ab-541ddf45035e",
   "metadata": {},
   "outputs": [],
   "source": []
  }
 ],
 "metadata": {
  "kernelspec": {
   "display_name": "Python 3 (ipykernel)",
   "language": "python",
   "name": "python3"
  },
  "language_info": {
   "codemirror_mode": {
    "name": "ipython",
    "version": 3
   },
   "file_extension": ".py",
   "mimetype": "text/x-python",
   "name": "python",
   "nbconvert_exporter": "python",
   "pygments_lexer": "ipython3",
   "version": "3.13.1"
  }
 },
 "nbformat": 4,
 "nbformat_minor": 5
}
