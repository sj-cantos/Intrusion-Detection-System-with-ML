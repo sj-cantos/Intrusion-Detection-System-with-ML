{
 "cells": [
  {
   "cell_type": "code",
   "execution_count": 1,
   "id": "558a6879-ab40-4ed0-998d-a0133ed30bc2",
   "metadata": {},
   "outputs": [],
   "source": [
    "import joblib\n",
    "import pandas as pd\n",
    "from sklearn.preprocessing import StandardScaler\n",
    "\n",
    "clf = joblib.load('ids_model.pkl')\n"
   ]
  },
  {
   "cell_type": "code",
   "execution_count": 2,
   "id": "f4835b14-4a20-4749-b866-b95cd3368530",
   "metadata": {},
   "outputs": [],
   "source": [
    "column_names = [\n",
    "    \"duration\", \"protocol_type\", \"service\", \"flag\", \"src_bytes\", \"dst_bytes\", \n",
    "    \"land\", \"wrong_fragment\", \"urgent\", \"hot\", \"num_failed_logins\", \"logged_in\", \n",
    "    \"num_compromised\", \"root_shell\", \"su_attempted\", \"num_root\", \"num_file_creations\", \n",
    "    \"num_shells\", \"num_access_files\", \"num_outbound_cmds\", \"is_host_login\", \n",
    "    \"is_guest_login\", \"count\", \"srv_count\", \"serror_rate\", \"srv_serror_rate\", \n",
    "    \"rerror_rate\", \"srv_rerror_rate\", \"same_srv_rate\", \"diff_srv_rate\", \n",
    "    \"srv_diff_host_rate\", \"dst_host_count\", \"dst_host_srv_count\", \n",
    "    \"dst_host_same_srv_rate\", \"dst_host_diff_srv_rate\", \"dst_host_same_src_port_rate\", \n",
    "    \"dst_host_srv_diff_host_rate\", \"dst_host_serror_rate\", \"dst_host_srv_serror_rate\", \n",
    "    \"dst_host_rerror_rate\", \"dst_host_srv_rerror_rate\", \"label\", \"difficulty_level\"\n",
    "]\n"
   ]
  },
  {
   "cell_type": "code",
   "execution_count": 3,
   "id": "fae2b1f3-6354-4caf-855a-fffad5ba23cb",
   "metadata": {},
   "outputs": [
    {
     "name": "stdout",
     "output_type": "stream",
     "text": [
      "   duration protocol_type  service flag  src_bytes  dst_bytes  land  \\\n",
      "0        13           tcp   telnet   SF        118       2425     0   \n",
      "1         0           udp  private   SF         44          0     0   \n",
      "2         0           tcp   telnet   S3          0         44     0   \n",
      "3         0           udp  private   SF         53         55     0   \n",
      "4         0           tcp  private   SH          0          0     0   \n",
      "\n",
      "   wrong_fragment  urgent  hot  ...  dst_host_srv_count  \\\n",
      "0               0       0    0  ...                  10   \n",
      "1               0       0    0  ...                 254   \n",
      "2               0       0    0  ...                  79   \n",
      "3               0       0    0  ...                 255   \n",
      "4               0       0    0  ...                   1   \n",
      "\n",
      "   dst_host_same_srv_rate  dst_host_diff_srv_rate  \\\n",
      "0                    0.38                    0.12   \n",
      "1                    1.00                    0.01   \n",
      "2                    0.31                    0.61   \n",
      "3                    1.00                    0.00   \n",
      "4                    0.06                    1.00   \n",
      "\n",
      "   dst_host_same_src_port_rate  dst_host_srv_diff_host_rate  \\\n",
      "0                         0.04                          0.0   \n",
      "1                         0.01                          0.0   \n",
      "2                         0.00                          0.0   \n",
      "3                         0.87                          0.0   \n",
      "4                         1.00                          0.0   \n",
      "\n",
      "   dst_host_serror_rate  dst_host_srv_serror_rate  dst_host_rerror_rate  \\\n",
      "0                  0.00                      0.00                  0.12   \n",
      "1                  0.00                      0.00                  0.00   \n",
      "2                  0.21                      0.68                  0.60   \n",
      "3                  0.00                      0.00                  0.00   \n",
      "4                  1.00                      1.00                  0.00   \n",
      "\n",
      "   dst_host_srv_rerror_rate         label  \n",
      "0                       0.3  guess_passwd  \n",
      "1                       0.0     snmpguess  \n",
      "2                       0.0  processtable  \n",
      "3                       0.0        normal  \n",
      "4                       0.0          nmap  \n",
      "\n",
      "[5 rows x 42 columns]\n"
     ]
    }
   ],
   "source": [
    "file_path = 'nsl-kdd/KDDTest-21.txt' \n",
    "df = pd.read_csv(file_path, header=None, names=column_names)\n",
    "if 'difficulty_level' in df.columns:\n",
    "    df.drop('difficulty_level', axis=1, inplace=True)\n",
    "print(df.head())"
   ]
  },
  {
   "cell_type": "code",
   "execution_count": 4,
   "id": "e96af84d-f43e-4798-8957-239e3edc03b8",
   "metadata": {},
   "outputs": [],
   "source": [
    "categorical_columns = ['protocol_type', 'service', 'flag']\n",
    "df_existing_categorical = [col for col in categorical_columns if col in df.columns]\n",
    "\n",
    "if df_existing_categorical:\n",
    "    df = pd.get_dummies(df, columns=df_existing_categorical)\n",
    "else:\n",
    "    print(\"Warning: Categorical columns not found in the dataset!\")\n"
   ]
  },
  {
   "cell_type": "code",
   "execution_count": 5,
   "id": "1473c694-c07c-43e2-bd3d-9d301fecfbc8",
   "metadata": {},
   "outputs": [],
   "source": [
    "train_columns = joblib.load(\"train_columns.pkl\")  \n",
    "missing_cols = set(train_columns) - set(df.columns)\n",
    "for col in missing_cols:\n",
    "    df[col] = 0  \n",
    "df = df[train_columns] "
   ]
  },
  {
   "cell_type": "code",
   "execution_count": 6,
   "id": "3a9e9c5e-6d04-4b8a-be03-1b3afc50ce23",
   "metadata": {},
   "outputs": [],
   "source": [
    "scaler = joblib.load(\"scaler.pkl\")  # Save scaler earlier\n",
    "X_test = scaler.transform(df)"
   ]
  },
  {
   "cell_type": "code",
   "execution_count": 7,
   "id": "883b2045-c025-4048-86b9-c5153932b8b8",
   "metadata": {},
   "outputs": [],
   "source": [
    "y_pred = clf.predict(X_test)\n"
   ]
  },
  {
   "cell_type": "code",
   "execution_count": 9,
   "id": "4303b5c6-9f40-431f-95fb-7cbc13f1df06",
   "metadata": {},
   "outputs": [],
   "source": [
    "label_encoder = joblib.load(\"label_encoder.pkl\")  # Save label encoder earlier\n",
    "y_pred_labels = label_encoder.inverse_transform(y_pred)"
   ]
  },
  {
   "cell_type": "code",
   "execution_count": 10,
   "id": "55875111-b23d-483f-be15-2cdc825c6e4a",
   "metadata": {},
   "outputs": [
    {
     "name": "stdout",
     "output_type": "stream",
     "text": [
      "      Predicted Label\n",
      "0              normal\n",
      "1              normal\n",
      "2              normal\n",
      "3              normal\n",
      "4                nmap\n",
      "...               ...\n",
      "11845          normal\n",
      "11846          normal\n",
      "11847          normal\n",
      "11848          normal\n",
      "11849          normal\n",
      "\n",
      "[11850 rows x 1 columns]\n"
     ]
    }
   ],
   "source": [
    "df_test_results = pd.DataFrame({'Predicted Label': y_pred_labels})\n",
    "print(df_test_results)"
   ]
  },
  {
   "cell_type": "code",
   "execution_count": 12,
   "id": "eadbf54c-2334-4f77-8d9d-3edb4e9cea23",
   "metadata": {},
   "outputs": [
    {
     "name": "stdout",
     "output_type": "stream",
     "text": [
      "Predicted Intrusion Type: normal\n"
     ]
    }
   ],
   "source": [
    "import numpy as np\n",
    "import pandas as pd\n",
    "import joblib\n",
    "\n",
    "scaler = joblib.load('scaler.pkl')\n",
    "clf = joblib.load('ids_model.pkl')\n",
    "label_encoder = joblib.load('label_encoder.pkl')\n",
    "\n",
    "new_sample = np.array([[0, 'tcp', 'ftp_data', 'SF', 491, 0, 0, 0, 0, 0, 0, 0, 0, 0, 0, 0, 0, 0, 0, 0, 0, 0, 2, 2, \n",
    "                         0.00, 0.00, 0.00, 0.00, 1.00, 0.00, 0.00, 150, 25, 0.17, 0.03, 0.17, 0.00, 0.00, 0.00, 0.05, 0.00]])\n",
    "\n",
    "column_names = [\"duration\", \"protocol_type\", \"service\", \"flag\", \"src_bytes\", \"dst_bytes\", \n",
    "                \"land\", \"wrong_fragment\", \"urgent\", \"hot\", \"num_failed_logins\", \"logged_in\", \n",
    "                \"num_compromised\", \"root_shell\", \"su_attempted\", \"num_root\", \"num_file_creations\", \n",
    "                \"num_shells\", \"num_access_files\", \"num_outbound_cmds\", \"is_host_login\", \n",
    "                \"is_guest_login\", \"count\", \"srv_count\", \"serror_rate\", \"srv_serror_rate\", \n",
    "                \"rerror_rate\", \"srv_rerror_rate\", \"same_srv_rate\", \"diff_srv_rate\", \n",
    "                \"srv_diff_host_rate\", \"dst_host_count\", \"dst_host_srv_count\", \n",
    "                \"dst_host_same_srv_rate\", \"dst_host_diff_srv_rate\", \"dst_host_same_src_port_rate\", \n",
    "                \"dst_host_srv_diff_host_rate\", \"dst_host_serror_rate\", \"dst_host_srv_serror_rate\", \n",
    "                \"dst_host_rerror_rate\", \"dst_host_srv_rerror_rate\", \"label\"]\n",
    "\n",
    "\n",
    "categorical_columns = ['protocol_type', 'service', 'flag']\n",
    "\n",
    "df_sample = pd.DataFrame(new_sample, columns=column_names[:-1])  \n",
    "df_sample = pd.get_dummies(df_sample, columns=categorical_columns)\n",
    "\n",
    "train_columns = joblib.load('train_columns.pkl')\n",
    "\n",
    "missing_cols = set(train_columns) - set(df_sample.columns)\n",
    "for col in missing_cols:\n",
    "    df_sample[col] = 0\n",
    "\n",
    "df_sample = df_sample[train_columns]\n",
    "X_sample = scaler.transform(df_sample)\n",
    "y_pred_sample = clf.predict(X_sample)\n",
    "predicted_label = label_encoder.inverse_transform(y_pred_sample)\n",
    "\n",
    "print(\"Predicted Intrusion Type:\", predicted_label[0])\n"
   ]
  },
  {
   "cell_type": "code",
   "execution_count": null,
   "id": "a2bf2498-253e-482b-a355-f3db85ee5038",
   "metadata": {},
   "outputs": [],
   "source": []
  }
 ],
 "metadata": {
  "kernelspec": {
   "display_name": "Python 3 (ipykernel)",
   "language": "python",
   "name": "python3"
  },
  "language_info": {
   "codemirror_mode": {
    "name": "ipython",
    "version": 3
   },
   "file_extension": ".py",
   "mimetype": "text/x-python",
   "name": "python",
   "nbconvert_exporter": "python",
   "pygments_lexer": "ipython3",
   "version": "3.13.1"
  }
 },
 "nbformat": 4,
 "nbformat_minor": 5
}
