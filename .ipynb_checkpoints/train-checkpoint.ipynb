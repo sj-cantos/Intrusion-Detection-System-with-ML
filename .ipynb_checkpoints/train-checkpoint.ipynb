{
 "cells": [
  {
   "cell_type": "code",
   "execution_count": null,
   "id": "577c144a-9fe6-47d6-ae5d-750540eba7b9",
   "metadata": {},
   "outputs": [],
   "source": [
    "import pandas as pd\n",
    "import numpy as np\n",
    "from sklearn.model_selection import train_test_split\n",
    "from sklearn.preprocessing import StandardScaler, LabelEncoder\n",
    "from imblearn.over_sampling import SMOTE\n",
    "from xgboost import XGBClassifier\n",
    "from sklearn.metrics import classification_report, confusion_matrix, accuracy_score\n",
    "import joblib"
   ]
  },
  {
   "cell_type": "code",
   "execution_count": null,
   "id": "d8bd0d82-383e-419e-9d92-9d45b8885dc0",
   "metadata": {},
   "outputs": [],
   "source": [
    "# Load NSL-KDD Dataset\n",
    "column_names = [\n",
    "    \"duration\", \"protocol_type\", \"service\", \"flag\", \"src_bytes\", \"dst_bytes\", \n",
    "    \"land\", \"wrong_fragment\", \"urgent\", \"hot\", \"num_failed_logins\", \"logged_in\", \n",
    "    \"num_compromised\", \"root_shell\", \"su_attempted\", \"num_root\", \"num_file_creations\", \n",
    "    \"num_shells\", \"num_access_files\", \"num_outbound_cmds\", \"is_host_login\", \n",
    "    \"is_guest_login\", \"count\", \"srv_count\", \"serror_rate\", \"srv_serror_rate\", \n",
    "    \"rerror_rate\", \"srv_rerror_rate\", \"same_srv_rate\", \"diff_srv_rate\", \n",
    "    \"srv_diff_host_rate\", \"dst_host_count\", \"dst_host_srv_count\", \n",
    "    \"dst_host_same_srv_rate\", \"dst_host_diff_srv_rate\", \"dst_host_same_src_port_rate\", \n",
    "    \"dst_host_srv_diff_host_rate\", \"dst_host_serror_rate\", \"dst_host_srv_serror_rate\", \n",
    "    \"dst_host_rerror_rate\", \"dst_host_srv_rerror_rate\", \"label\", \"difficulty_level\"\n",
    "]"
   ]
  },
  {
   "cell_type": "code",
   "execution_count": null,
   "id": "366999e5-7111-41ca-b5f0-bd504346fe3e",
   "metadata": {},
   "outputs": [],
   "source": [
    "file_path = 'nsl-kdd/KDDTrain+.txt' \n",
    "df = pd.read_csv(file_path, header=None, names=column_names)"
   ]
  },
  {
   "cell_type": "code",
   "execution_count": null,
   "id": "41e3233a-545a-405d-be9a-a90a5d11f2e0",
   "metadata": {},
   "outputs": [],
   "source": [
    "# One-Hot Encoding for Categorical Columns\n",
    "categorical_columns = ['protocol_type', 'service', 'flag']\n",
    "df = pd.get_dummies(df, columns=categorical_columns)"
   ]
  },
  {
   "cell_type": "code",
   "execution_count": null,
   "id": "5a5b3cfc-4cf5-458f-8812-163780fea0f1",
   "metadata": {},
   "outputs": [],
   "source": [
    "# Save expected columns for feature alignment\n",
    "train_columns = df.drop(['label', 'difficulty_level'], axis=1).columns.tolist()\n",
    "joblib.dump(train_columns, 'train_columns.pkl')"
   ]
  },
  {
   "cell_type": "code",
   "execution_count": null,
   "id": "a8334ef3-502b-460e-b670-b91c1456d9b7",
   "metadata": {},
   "outputs": [],
   "source": [
    "# Encode Labels\n",
    "label_encoder = LabelEncoder()\n",
    "df['label'] = label_encoder.fit_transform(df['label'])\n",
    "joblib.dump(label_encoder, 'label_encoder.pkl')"
   ]
  },
  {
   "cell_type": "code",
   "execution_count": null,
   "id": "2faa9c53-b2bc-4e42-b8e2-db843452efcf",
   "metadata": {},
   "outputs": [],
   "source": [
    "\n",
    "# Save all possible classes\n",
    "all_classes = np.unique(df['label'])"
   ]
  },
  {
   "cell_type": "code",
   "execution_count": null,
   "id": "29496140-e2ce-425b-8d9e-39f2f699e2ea",
   "metadata": {},
   "outputs": [],
   "source": [
    "# Prepare Features and Labels\n",
    "X = df.drop(['label', 'difficulty_level'], axis=1)\n",
    "y = df['label']"
   ]
  },
  {
   "cell_type": "code",
   "execution_count": null,
   "id": "867bf684-bc8f-4526-9a41-a25ad089567b",
   "metadata": {},
   "outputs": [],
   "source": [
    "# Train-Test Split\n",
    "X_train, X_test, y_train, y_test = train_test_split(X, y, test_size=0.2, random_state=42, stratify=y)"
   ]
  },
  {
   "cell_type": "code",
   "execution_count": null,
   "id": "d0eaf105-3e2c-4899-8610-1770624ff80d",
   "metadata": {},
   "outputs": [],
   "source": [
    "# Remove extremely low-sample classes before resampling\n",
    "min_samples_threshold = 5  # Adjust as needed\n",
    "filtered_classes = y_train.value_counts()[y_train.value_counts() >= min_samples_threshold].index\n",
    "X_train = X_train[y_train.isin(filtered_classes)]\n",
    "y_train = y_train[y_train.isin(filtered_classes)]"
   ]
  },
  {
   "cell_type": "code",
   "execution_count": null,
   "id": "e6110daa-4181-4fe1-9a36-5839c87a03b8",
   "metadata": {},
   "outputs": [],
   "source": [
    "# Apply SMOTE to Balance Classes\n",
    "smote = SMOTE(random_state=42)\n",
    "X_train_balanced, y_train_balanced = smote.fit_resample(X_train, y_train)"
   ]
  },
  {
   "cell_type": "code",
   "execution_count": null,
   "id": "f79db25e-9353-48de-97a5-a2a6d4aa4732",
   "metadata": {},
   "outputs": [],
   "source": [
    "\n",
    "# Ensure `y_train_balanced` contains all possible classes\n",
    "missing_classes = np.setdiff1d(all_classes, np.unique(y_train_balanced))\n",
    "if len(missing_classes) > 0:\n",
    "    for cls in missing_classes:\n",
    "        X_train_balanced = np.vstack([X_train_balanced, np.zeros((1, X_train_balanced.shape[1]))])\n",
    "        y_train_balanced = np.append(y_train_balanced, cls)"
   ]
  },
  {
   "cell_type": "code",
   "execution_count": null,
   "id": "849f34d3-9108-4348-8d1b-ae304d244261",
   "metadata": {},
   "outputs": [],
   "source": [
    "\n",
    "# Standardization\n",
    "scaler = StandardScaler()\n",
    "X_train_balanced = scaler.fit_transform(pd.DataFrame(X_train_balanced, columns=train_columns))\n",
    "X_test = scaler.transform(pd.DataFrame(X_test, columns=train_columns))\n",
    "joblib.dump(scaler, 'scaler.pkl')"
   ]
  },
  {
   "cell_type": "code",
   "execution_count": null,
   "id": "a96321be-4707-48c6-abb3-108bf8f2e762",
   "metadata": {},
   "outputs": [],
   "source": [
    "# Train XGBoost Model\n",
    "clf = XGBClassifier(n_estimators=100, random_state=42)\n",
    "clf.fit(X_train_balanced, y_train_balanced)"
   ]
  },
  {
   "cell_type": "code",
   "execution_count": null,
   "id": "58b75ec7-8cd7-449e-98e6-9f33c595b13e",
   "metadata": {},
   "outputs": [],
   "source": [
    "# Evaluate Model\n",
    "y_pred = clf.predict(X_test)\n",
    "print(\"Confusion Matrix:\")\n",
    "print(confusion_matrix(y_test, y_pred))\n",
    "print(\"\\nClassification Report:\")\n",
    "print(classification_report(y_test, y_pred))\n",
    "print(\"Accuracy:\", accuracy_score(y_test, y_pred))"
   ]
  },
  {
   "cell_type": "code",
   "execution_count": null,
   "id": "46de1027-dcba-4ca0-b623-b3cc31848031",
   "metadata": {},
   "outputs": [],
   "source": [
    "# Save Model\n",
    "joblib.dump(clf, 'ids_model.pkl')\n",
    "print(\"Model saved successfully!\")"
   ]
  },
  {
   "cell_type": "code",
   "execution_count": null,
   "id": "7e6f2b24-e0f3-4464-947f-517ec2c5d1ff",
   "metadata": {},
   "outputs": [],
   "source": []
  }
 ],
 "metadata": {
  "kernelspec": {
   "display_name": "Python 3 (ipykernel)",
   "language": "python",
   "name": "python3"
  },
  "language_info": {
   "codemirror_mode": {
    "name": "ipython",
    "version": 3
   },
   "file_extension": ".py",
   "mimetype": "text/x-python",
   "name": "python",
   "nbconvert_exporter": "python",
   "pygments_lexer": "ipython3",
   "version": "3.13.1"
  }
 },
 "nbformat": 4,
 "nbformat_minor": 5
}
